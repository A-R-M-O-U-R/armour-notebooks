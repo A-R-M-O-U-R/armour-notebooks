{
 "cells": [
  {
   "cell_type": "code",
   "execution_count": 87,
   "id": "12859916",
   "metadata": {},
   "outputs": [],
   "source": [
    "import os\n",
    "import pickle as pkl\n",
    "\n",
    "import numpy as np\n",
    "import pandas as pd\n",
    "\n",
    "from sklearn.model_selection import StratifiedShuffleSplit"
   ]
  },
  {
   "cell_type": "code",
   "execution_count": 88,
   "id": "fd9543f3",
   "metadata": {},
   "outputs": [],
   "source": [
    "MARCH_PARENT_DIR = \"./cicddos_data/CSV-03-11/03-11\"\n",
    "JAN_PARENT_DIR = \"./cicddos_data/CSV-01-12/01-12\"\n",
    "\n",
    "OUT_DIR = \"./cicddos_data/out\""
   ]
  },
  {
   "cell_type": "code",
   "execution_count": 75,
   "id": "3f695cbd",
   "metadata": {},
   "outputs": [],
   "source": [
    "def get_headers():\n",
    "  return pkl.load(open(f\"./pkls/headers.pkl\", \"rb\"))"
   ]
  },
  {
   "cell_type": "code",
   "execution_count": 136,
   "id": "fe036e27",
   "metadata": {},
   "outputs": [],
   "source": [
    "def create_draft(parent_dir, out_dir):\n",
    "    \n",
    "    # init csv with headers\n",
    "    col_names = [col.strip() for col in get_headers()]\n",
    "    cols_df = pd.DataFrame(columns=col_names)\n",
    "    train_csv_path = f\"{OUT_DIR}/train.csv\"\n",
    "    test_csv_path = f\"{OUT_DIR}/test.csv\"\n",
    "    cols_df.to_csv(train_csv_path, index=False, mode='w')\n",
    "    cols_df.to_csv(test_csv_path, index=False, mode='w')\n",
    "    \n",
    "    for filename in os.listdir(parent_dir):\n",
    "        if filename.endswith(\".csv\") or filename.endswith(\".CSV\"):\n",
    "            csv_file_path = os.path.join(parent_dir, filename)\n",
    "            attack_type = filename.split(\".\")[0].split(\"_\")[-1]\n",
    "            print(f\"Reading CSV [{attack_type}].\")\n",
    "            \n",
    "            df = pd.read_csv(csv_file_path, low_memory=False)\n",
    "#             df = pd.read_csv(os.path.join(parent_dir, \"DrDoS_NTP.csv\"), low_memory=False)\n",
    "            print(f\"Read Complete [{attack_type}].\\nProcessing [{attack_type}].\")\n",
    "            \n",
    "            df.drop(\"Unnamed: 0\", axis=1, inplace=True)\n",
    "            \n",
    "            df[\"attack_type\"] = attack_type\n",
    "            \n",
    "\n",
    "            stratified_splitter = StratifiedShuffleSplit(n_splits=1, test_size=0.2, random_state=42)\n",
    "            for train_index, test_index in stratified_splitter.split(df, df[' Label']):\n",
    "                train_df = df.loc[train_index]\n",
    "                test_df = df.loc[test_index]\n",
    "                \n",
    "                train_df = train_df[:200000]\n",
    "                test_df = test_df[:2000]\n",
    "                print(f\"Processing Complete [{attack_type}].\")\n",
    "                \n",
    "                train_df.to_csv(train_csv_path, mode='a', index=False, header=False)\n",
    "                test_df.to_csv(test_csv_path, mode='a', index=False, header=False)\n",
    "                \n",
    "                print(f\"Append Complete [{attack_type}].\")\n",
    "        print()\n",
    "                \n",
    "    print(\"All Done.\")"
   ]
  },
  {
   "cell_type": "code",
   "execution_count": null,
   "id": "586c48a3",
   "metadata": {},
   "outputs": [
    {
     "name": "stdout",
     "output_type": "stream",
     "text": [
      "Reading CSV [SSDP].\n",
      "Read Complete [SSDP].\n",
      "Processing [SSDP].\n",
      "Processing Complete [SSDP].\n",
      "Append Complete [SSDP].\n",
      "\n",
      "Reading CSV [NetBIOS].\n",
      "Read Complete [NetBIOS].\n",
      "Processing [NetBIOS].\n",
      "Processing Complete [NetBIOS].\n",
      "Append Complete [NetBIOS].\n",
      "\n",
      "Reading CSV [UDP].\n",
      "Read Complete [UDP].\n",
      "Processing [UDP].\n",
      "Processing Complete [UDP].\n",
      "Append Complete [UDP].\n",
      "\n",
      "Reading CSV [TFTP].\n",
      "Read Complete [TFTP].\n",
      "Processing [TFTP].\n",
      "Processing Complete [TFTP].\n",
      "Append Complete [TFTP].\n",
      "\n",
      "Reading CSV [Syn].\n",
      "Read Complete [Syn].\n",
      "Processing [Syn].\n",
      "Processing Complete [Syn].\n",
      "Append Complete [Syn].\n",
      "\n",
      "Reading CSV [MSSQL].\n",
      "Read Complete [MSSQL].\n",
      "Processing [MSSQL].\n",
      "Processing Complete [MSSQL].\n",
      "Append Complete [MSSQL].\n",
      "\n",
      "Reading CSV [SNMP].\n",
      "Read Complete [SNMP].\n",
      "Processing [SNMP].\n",
      "Processing Complete [SNMP].\n",
      "Append Complete [SNMP].\n",
      "\n",
      "Reading CSV [LDAP].\n",
      "Read Complete [LDAP].\n",
      "Processing [LDAP].\n",
      "Processing Complete [LDAP].\n",
      "Append Complete [LDAP].\n",
      "\n",
      "Reading CSV [NTP].\n",
      "Read Complete [NTP].\n",
      "Processing [NTP].\n",
      "Processing Complete [NTP].\n",
      "Append Complete [NTP].\n",
      "\n",
      "Reading CSV [UDPLag].\n",
      "Read Complete [UDPLag].\n",
      "Processing [UDPLag].\n",
      "Processing Complete [UDPLag].\n",
      "Append Complete [UDPLag].\n",
      "\n",
      "Reading CSV [DNS].\n",
      "Read Complete [DNS].\n",
      "Processing [DNS].\n",
      "Processing Complete [DNS].\n"
     ]
    }
   ],
   "source": [
    "create_draft(JAN_PARENT_DIR, OUT_DIR)"
   ]
  },
  {
   "cell_type": "code",
   "execution_count": 115,
   "id": "446469a3",
   "metadata": {},
   "outputs": [
    {
     "name": "stdout",
     "output_type": "stream",
     "text": [
      "DrDoS_SSDP    2610611\n",
      "BENIGN            763\n",
      "Name:  Label, dtype: int64\n",
      "\n",
      "DrDoS_NetBIOS    4093279\n",
      "BENIGN              1707\n",
      "Name:  Label, dtype: int64\n",
      "\n",
      "DrDoS_UDP    3134645\n",
      "BENIGN          2157\n",
      "Name:  Label, dtype: int64\n",
      "\n",
      "TFTP      20082580\n",
      "BENIGN       25247\n",
      "Name:  Label, dtype: int64\n",
      "\n",
      "Syn       1582289\n",
      "BENIGN        392\n",
      "Name:  Label, dtype: int64\n",
      "\n",
      "DrDoS_MSSQL    4522492\n",
      "BENIGN            2006\n",
      "Name:  Label, dtype: int64\n",
      "\n",
      "DrDoS_SNMP    5159870\n",
      "BENIGN           1507\n",
      "Name:  Label, dtype: int64\n",
      "\n"
     ]
    },
    {
     "ename": "ParserError",
     "evalue": "Error tokenizing data. C error: Calling read(nbytes) on source failed. Try engine='python'.",
     "output_type": "error",
     "traceback": [
      "\u001b[0;31m---------------------------------------------------------------------------\u001b[0m",
      "\u001b[0;31mParserError\u001b[0m                               Traceback (most recent call last)",
      "Input \u001b[0;32mIn [115]\u001b[0m, in \u001b[0;36m<cell line: 1>\u001b[0;34m()\u001b[0m\n\u001b[1;32m      2\u001b[0m \u001b[38;5;28;01mif\u001b[39;00m filename\u001b[38;5;241m.\u001b[39mendswith(\u001b[38;5;124m\"\u001b[39m\u001b[38;5;124m.csv\u001b[39m\u001b[38;5;124m\"\u001b[39m):\n\u001b[1;32m      3\u001b[0m     csv_path \u001b[38;5;241m=\u001b[39m os\u001b[38;5;241m.\u001b[39mpath\u001b[38;5;241m.\u001b[39mjoin(JAN_PARENT_DIR, filename)\n\u001b[0;32m----> 4\u001b[0m     df \u001b[38;5;241m=\u001b[39m \u001b[43mpd\u001b[49m\u001b[38;5;241;43m.\u001b[39;49m\u001b[43mread_csv\u001b[49m\u001b[43m(\u001b[49m\u001b[43mcsv_path\u001b[49m\u001b[43m,\u001b[49m\u001b[43m \u001b[49m\u001b[43mlow_memory\u001b[49m\u001b[38;5;241;43m=\u001b[39;49m\u001b[38;5;28;43;01mFalse\u001b[39;49;00m\u001b[43m)\u001b[49m\n\u001b[1;32m      5\u001b[0m     \u001b[38;5;28mprint\u001b[39m(df[\u001b[38;5;124m\"\u001b[39m\u001b[38;5;124m Label\u001b[39m\u001b[38;5;124m\"\u001b[39m]\u001b[38;5;241m.\u001b[39mvalue_counts())\n\u001b[1;32m      6\u001b[0m     \u001b[38;5;28mprint\u001b[39m()\n",
      "File \u001b[0;32m~/Envs/ddos/lib/python3.8/site-packages/pandas/util/_decorators.py:311\u001b[0m, in \u001b[0;36mdeprecate_nonkeyword_arguments.<locals>.decorate.<locals>.wrapper\u001b[0;34m(*args, **kwargs)\u001b[0m\n\u001b[1;32m    305\u001b[0m \u001b[38;5;28;01mif\u001b[39;00m \u001b[38;5;28mlen\u001b[39m(args) \u001b[38;5;241m>\u001b[39m num_allow_args:\n\u001b[1;32m    306\u001b[0m     warnings\u001b[38;5;241m.\u001b[39mwarn(\n\u001b[1;32m    307\u001b[0m         msg\u001b[38;5;241m.\u001b[39mformat(arguments\u001b[38;5;241m=\u001b[39marguments),\n\u001b[1;32m    308\u001b[0m         \u001b[38;5;167;01mFutureWarning\u001b[39;00m,\n\u001b[1;32m    309\u001b[0m         stacklevel\u001b[38;5;241m=\u001b[39mstacklevel,\n\u001b[1;32m    310\u001b[0m     )\n\u001b[0;32m--> 311\u001b[0m \u001b[38;5;28;01mreturn\u001b[39;00m \u001b[43mfunc\u001b[49m\u001b[43m(\u001b[49m\u001b[38;5;241;43m*\u001b[39;49m\u001b[43margs\u001b[49m\u001b[43m,\u001b[49m\u001b[43m \u001b[49m\u001b[38;5;241;43m*\u001b[39;49m\u001b[38;5;241;43m*\u001b[39;49m\u001b[43mkwargs\u001b[49m\u001b[43m)\u001b[49m\n",
      "File \u001b[0;32m~/Envs/ddos/lib/python3.8/site-packages/pandas/io/parsers/readers.py:680\u001b[0m, in \u001b[0;36mread_csv\u001b[0;34m(filepath_or_buffer, sep, delimiter, header, names, index_col, usecols, squeeze, prefix, mangle_dupe_cols, dtype, engine, converters, true_values, false_values, skipinitialspace, skiprows, skipfooter, nrows, na_values, keep_default_na, na_filter, verbose, skip_blank_lines, parse_dates, infer_datetime_format, keep_date_col, date_parser, dayfirst, cache_dates, iterator, chunksize, compression, thousands, decimal, lineterminator, quotechar, quoting, doublequote, escapechar, comment, encoding, encoding_errors, dialect, error_bad_lines, warn_bad_lines, on_bad_lines, delim_whitespace, low_memory, memory_map, float_precision, storage_options)\u001b[0m\n\u001b[1;32m    665\u001b[0m kwds_defaults \u001b[38;5;241m=\u001b[39m _refine_defaults_read(\n\u001b[1;32m    666\u001b[0m     dialect,\n\u001b[1;32m    667\u001b[0m     delimiter,\n\u001b[0;32m   (...)\u001b[0m\n\u001b[1;32m    676\u001b[0m     defaults\u001b[38;5;241m=\u001b[39m{\u001b[38;5;124m\"\u001b[39m\u001b[38;5;124mdelimiter\u001b[39m\u001b[38;5;124m\"\u001b[39m: \u001b[38;5;124m\"\u001b[39m\u001b[38;5;124m,\u001b[39m\u001b[38;5;124m\"\u001b[39m},\n\u001b[1;32m    677\u001b[0m )\n\u001b[1;32m    678\u001b[0m kwds\u001b[38;5;241m.\u001b[39mupdate(kwds_defaults)\n\u001b[0;32m--> 680\u001b[0m \u001b[38;5;28;01mreturn\u001b[39;00m \u001b[43m_read\u001b[49m\u001b[43m(\u001b[49m\u001b[43mfilepath_or_buffer\u001b[49m\u001b[43m,\u001b[49m\u001b[43m \u001b[49m\u001b[43mkwds\u001b[49m\u001b[43m)\u001b[49m\n",
      "File \u001b[0;32m~/Envs/ddos/lib/python3.8/site-packages/pandas/io/parsers/readers.py:581\u001b[0m, in \u001b[0;36m_read\u001b[0;34m(filepath_or_buffer, kwds)\u001b[0m\n\u001b[1;32m    578\u001b[0m     \u001b[38;5;28;01mreturn\u001b[39;00m parser\n\u001b[1;32m    580\u001b[0m \u001b[38;5;28;01mwith\u001b[39;00m parser:\n\u001b[0;32m--> 581\u001b[0m     \u001b[38;5;28;01mreturn\u001b[39;00m \u001b[43mparser\u001b[49m\u001b[38;5;241;43m.\u001b[39;49m\u001b[43mread\u001b[49m\u001b[43m(\u001b[49m\u001b[43mnrows\u001b[49m\u001b[43m)\u001b[49m\n",
      "File \u001b[0;32m~/Envs/ddos/lib/python3.8/site-packages/pandas/io/parsers/readers.py:1254\u001b[0m, in \u001b[0;36mTextFileReader.read\u001b[0;34m(self, nrows)\u001b[0m\n\u001b[1;32m   1252\u001b[0m nrows \u001b[38;5;241m=\u001b[39m validate_integer(\u001b[38;5;124m\"\u001b[39m\u001b[38;5;124mnrows\u001b[39m\u001b[38;5;124m\"\u001b[39m, nrows)\n\u001b[1;32m   1253\u001b[0m \u001b[38;5;28;01mtry\u001b[39;00m:\n\u001b[0;32m-> 1254\u001b[0m     index, columns, col_dict \u001b[38;5;241m=\u001b[39m \u001b[38;5;28;43mself\u001b[39;49m\u001b[38;5;241;43m.\u001b[39;49m\u001b[43m_engine\u001b[49m\u001b[38;5;241;43m.\u001b[39;49m\u001b[43mread\u001b[49m\u001b[43m(\u001b[49m\u001b[43mnrows\u001b[49m\u001b[43m)\u001b[49m\n\u001b[1;32m   1255\u001b[0m \u001b[38;5;28;01mexcept\u001b[39;00m \u001b[38;5;167;01mException\u001b[39;00m:\n\u001b[1;32m   1256\u001b[0m     \u001b[38;5;28mself\u001b[39m\u001b[38;5;241m.\u001b[39mclose()\n",
      "File \u001b[0;32m~/Envs/ddos/lib/python3.8/site-packages/pandas/io/parsers/c_parser_wrapper.py:230\u001b[0m, in \u001b[0;36mCParserWrapper.read\u001b[0;34m(self, nrows)\u001b[0m\n\u001b[1;32m    227\u001b[0m         data \u001b[38;5;241m=\u001b[39m _concatenate_chunks(chunks)\n\u001b[1;32m    229\u001b[0m     \u001b[38;5;28;01melse\u001b[39;00m:\n\u001b[0;32m--> 230\u001b[0m         data \u001b[38;5;241m=\u001b[39m \u001b[38;5;28;43mself\u001b[39;49m\u001b[38;5;241;43m.\u001b[39;49m\u001b[43m_reader\u001b[49m\u001b[38;5;241;43m.\u001b[39;49m\u001b[43mread\u001b[49m\u001b[43m(\u001b[49m\u001b[43mnrows\u001b[49m\u001b[43m)\u001b[49m\n\u001b[1;32m    231\u001b[0m \u001b[38;5;28;01mexcept\u001b[39;00m \u001b[38;5;167;01mStopIteration\u001b[39;00m:\n\u001b[1;32m    232\u001b[0m     \u001b[38;5;28;01mif\u001b[39;00m \u001b[38;5;28mself\u001b[39m\u001b[38;5;241m.\u001b[39m_first_chunk:\n",
      "File \u001b[0;32m~/Envs/ddos/lib/python3.8/site-packages/pandas/_libs/parsers.pyx:787\u001b[0m, in \u001b[0;36mpandas._libs.parsers.TextReader.read\u001b[0;34m()\u001b[0m\n",
      "File \u001b[0;32m~/Envs/ddos/lib/python3.8/site-packages/pandas/_libs/parsers.pyx:876\u001b[0m, in \u001b[0;36mpandas._libs.parsers.TextReader._read_rows\u001b[0;34m()\u001b[0m\n",
      "File \u001b[0;32m~/Envs/ddos/lib/python3.8/site-packages/pandas/_libs/parsers.pyx:1960\u001b[0m, in \u001b[0;36mpandas._libs.parsers.raise_parser_error\u001b[0;34m()\u001b[0m\n",
      "\u001b[0;31mParserError\u001b[0m: Error tokenizing data. C error: Calling read(nbytes) on source failed. Try engine='python'."
     ]
    }
   ],
   "source": [
    "for filename in os.listdir(JAN_PARENT_DIR):\n",
    "    if filename.endswith(\".csv\"):\n",
    "        csv_path = os.path.join(JAN_PARENT_DIR, filename)\n",
    "        df = pd.read_csv(csv_path, low_memory=False)\n",
    "        print(df[\" Label\"].value_counts())\n",
    "        print()"
   ]
  },
  {
   "cell_type": "code",
   "execution_count": 116,
   "id": "9803a2f9",
   "metadata": {},
   "outputs": [],
   "source": [
    "df_test = pd.read_csv(os.path.join(JAN_PARENT_DIR, \"DrDoS_NTP.csv\"), low_memory=False)"
   ]
  },
  {
   "cell_type": "code",
   "execution_count": 133,
   "id": "733850a3",
   "metadata": {},
   "outputs": [],
   "source": [
    "actual_labels = df_test[\" Label\"].index"
   ]
  },
  {
   "cell_type": "code",
   "execution_count": null,
   "id": "6664e23e",
   "metadata": {},
   "outputs": [],
   "source": []
  },
  {
   "cell_type": "code",
   "execution_count": 129,
   "id": "73026887",
   "metadata": {},
   "outputs": [],
   "source": [
    "req_labels = [label.split(\"DrDoS_\")[-1] for label in df_test[\" Label\"].value_counts().index.to_list()]"
   ]
  },
  {
   "cell_type": "code",
   "execution_count": 131,
   "id": "591254d4",
   "metadata": {},
   "outputs": [
    {
     "data": {
      "text/plain": [
       "['NTP']"
      ]
     },
     "execution_count": 131,
     "metadata": {},
     "output_type": "execute_result"
    }
   ],
   "source": [
    "req_labels.remove('BENIGN')\n",
    "req_labels"
   ]
  },
  {
   "cell_type": "code",
   "execution_count": 70,
   "id": "fb6e2ab7",
   "metadata": {},
   "outputs": [],
   "source": [
    "test_df = pd.DataFrame(columns=get_headers())"
   ]
  },
  {
   "cell_type": "code",
   "execution_count": 71,
   "id": "170b4d5b",
   "metadata": {},
   "outputs": [
    {
     "data": {
      "text/html": [
       "<div>\n",
       "<style scoped>\n",
       "    .dataframe tbody tr th:only-of-type {\n",
       "        vertical-align: middle;\n",
       "    }\n",
       "\n",
       "    .dataframe tbody tr th {\n",
       "        vertical-align: top;\n",
       "    }\n",
       "\n",
       "    .dataframe thead th {\n",
       "        text-align: right;\n",
       "    }\n",
       "</style>\n",
       "<table border=\"1\" class=\"dataframe\">\n",
       "  <thead>\n",
       "    <tr style=\"text-align: right;\">\n",
       "      <th></th>\n",
       "      <th>Flow ID</th>\n",
       "      <th>Source IP</th>\n",
       "      <th>Source Port</th>\n",
       "      <th>Destination IP</th>\n",
       "      <th>Destination Port</th>\n",
       "      <th>Protocol</th>\n",
       "      <th>Timestamp</th>\n",
       "      <th>Flow Duration</th>\n",
       "      <th>Total Fwd Packets</th>\n",
       "      <th>Total Backward Packets</th>\n",
       "      <th>...</th>\n",
       "      <th>Active Max</th>\n",
       "      <th>Active Min</th>\n",
       "      <th>Idle Mean</th>\n",
       "      <th>Idle Std</th>\n",
       "      <th>Idle Max</th>\n",
       "      <th>Idle Min</th>\n",
       "      <th>SimillarHTTP</th>\n",
       "      <th>Inbound</th>\n",
       "      <th>Label</th>\n",
       "      <th>attack_type</th>\n",
       "    </tr>\n",
       "  </thead>\n",
       "  <tbody>\n",
       "  </tbody>\n",
       "</table>\n",
       "<p>0 rows × 88 columns</p>\n",
       "</div>"
      ],
      "text/plain": [
       "Empty DataFrame\n",
       "Columns: [Flow ID,  Source IP,  Source Port,  Destination IP,  Destination Port,  Protocol,  Timestamp,  Flow Duration,  Total Fwd Packets,  Total Backward Packets, Total Length of Fwd Packets,  Total Length of Bwd Packets,  Fwd Packet Length Max,  Fwd Packet Length Min,  Fwd Packet Length Mean,  Fwd Packet Length Std, Bwd Packet Length Max,  Bwd Packet Length Min,  Bwd Packet Length Mean,  Bwd Packet Length Std, Flow Bytes/s,  Flow Packets/s,  Flow IAT Mean,  Flow IAT Std,  Flow IAT Max,  Flow IAT Min, Fwd IAT Total,  Fwd IAT Mean,  Fwd IAT Std,  Fwd IAT Max,  Fwd IAT Min, Bwd IAT Total,  Bwd IAT Mean,  Bwd IAT Std,  Bwd IAT Max,  Bwd IAT Min, Fwd PSH Flags,  Bwd PSH Flags,  Fwd URG Flags,  Bwd URG Flags,  Fwd Header Length,  Bwd Header Length, Fwd Packets/s,  Bwd Packets/s,  Min Packet Length,  Max Packet Length,  Packet Length Mean,  Packet Length Std,  Packet Length Variance, FIN Flag Count,  SYN Flag Count,  RST Flag Count,  PSH Flag Count,  ACK Flag Count,  URG Flag Count,  CWE Flag Count,  ECE Flag Count,  Down/Up Ratio,  Average Packet Size,  Avg Fwd Segment Size,  Avg Bwd Segment Size,  Fwd Header Length.1, Fwd Avg Bytes/Bulk,  Fwd Avg Packets/Bulk,  Fwd Avg Bulk Rate,  Bwd Avg Bytes/Bulk,  Bwd Avg Packets/Bulk, Bwd Avg Bulk Rate, Subflow Fwd Packets,  Subflow Fwd Bytes,  Subflow Bwd Packets,  Subflow Bwd Bytes, Init_Win_bytes_forward,  Init_Win_bytes_backward,  act_data_pkt_fwd,  min_seg_size_forward, Active Mean,  Active Std,  Active Max,  Active Min, Idle Mean,  Idle Std,  Idle Max,  Idle Min, SimillarHTTP,  Inbound,  Label, attack_type]\n",
       "Index: []\n",
       "\n",
       "[0 rows x 88 columns]"
      ]
     },
     "execution_count": 71,
     "metadata": {},
     "output_type": "execute_result"
    }
   ],
   "source": [
    "test_df"
   ]
  },
  {
   "cell_type": "code",
   "execution_count": 138,
   "id": "8edba5c3",
   "metadata": {},
   "outputs": [
    {
     "data": {
      "text/plain": [
       "array(['Flow ID', ' Source IP', ' Source Port', ' Destination IP',\n",
       "       ' Destination Port', ' Protocol', ' Timestamp', ' Flow Duration',\n",
       "       ' Total Fwd Packets', ' Total Backward Packets',\n",
       "       'Total Length of Fwd Packets', ' Total Length of Bwd Packets',\n",
       "       ' Fwd Packet Length Max', ' Fwd Packet Length Min',\n",
       "       ' Fwd Packet Length Mean', ' Fwd Packet Length Std',\n",
       "       'Bwd Packet Length Max', ' Bwd Packet Length Min',\n",
       "       ' Bwd Packet Length Mean', ' Bwd Packet Length Std',\n",
       "       'Flow Bytes/s', ' Flow Packets/s', ' Flow IAT Mean',\n",
       "       ' Flow IAT Std', ' Flow IAT Max', ' Flow IAT Min', 'Fwd IAT Total',\n",
       "       ' Fwd IAT Mean', ' Fwd IAT Std', ' Fwd IAT Max', ' Fwd IAT Min',\n",
       "       'Bwd IAT Total', ' Bwd IAT Mean', ' Bwd IAT Std', ' Bwd IAT Max',\n",
       "       ' Bwd IAT Min', 'Fwd PSH Flags', ' Bwd PSH Flags',\n",
       "       ' Fwd URG Flags', ' Bwd URG Flags', ' Fwd Header Length',\n",
       "       ' Bwd Header Length', 'Fwd Packets/s', ' Bwd Packets/s',\n",
       "       ' Min Packet Length', ' Max Packet Length', ' Packet Length Mean',\n",
       "       ' Packet Length Std', ' Packet Length Variance', 'FIN Flag Count',\n",
       "       ' SYN Flag Count', ' RST Flag Count', ' PSH Flag Count',\n",
       "       ' ACK Flag Count', ' URG Flag Count', ' CWE Flag Count',\n",
       "       ' ECE Flag Count', ' Down/Up Ratio', ' Average Packet Size',\n",
       "       ' Avg Fwd Segment Size', ' Avg Bwd Segment Size',\n",
       "       ' Fwd Header Length.1', 'Fwd Avg Bytes/Bulk',\n",
       "       ' Fwd Avg Packets/Bulk', ' Fwd Avg Bulk Rate',\n",
       "       ' Bwd Avg Bytes/Bulk', ' Bwd Avg Packets/Bulk',\n",
       "       'Bwd Avg Bulk Rate', 'Subflow Fwd Packets', ' Subflow Fwd Bytes',\n",
       "       ' Subflow Bwd Packets', ' Subflow Bwd Bytes',\n",
       "       'Init_Win_bytes_forward', ' Init_Win_bytes_backward',\n",
       "       ' act_data_pkt_fwd', ' min_seg_size_forward', 'Active Mean',\n",
       "       ' Active Std', ' Active Max', ' Active Min', 'Idle Mean',\n",
       "       ' Idle Std', ' Idle Max', ' Idle Min', 'SimillarHTTP', ' Inbound',\n",
       "       ' Label', 'attack_type'], dtype=object)"
      ]
     },
     "execution_count": 138,
     "metadata": {},
     "output_type": "execute_result"
    }
   ],
   "source": [
    "get_headers()"
   ]
  },
  {
   "cell_type": "code",
   "execution_count": null,
   "id": "1246b891",
   "metadata": {},
   "outputs": [],
   "source": []
  }
 ],
 "metadata": {
  "kernelspec": {
   "display_name": "Python 3 (ipykernel)",
   "language": "python",
   "name": "python3"
  },
  "language_info": {
   "codemirror_mode": {
    "name": "ipython",
    "version": 3
   },
   "file_extension": ".py",
   "mimetype": "text/x-python",
   "name": "python",
   "nbconvert_exporter": "python",
   "pygments_lexer": "ipython3",
   "version": "3.8.10"
  }
 },
 "nbformat": 4,
 "nbformat_minor": 5
}
